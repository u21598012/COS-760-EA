{
  "cells": [
    {
      "cell_type": "code",
      "execution_count": null,
      "metadata": {
        "id": "xuQdErFRvTAr"
      },
      "outputs": [],
      "source": [
        "from datasets import load_dataset\n",
        "\n",
        "ds = load_dataset(\"brighter-dataset/BRIGHTER-emotion-categories\", \"\")"
      ]
    },
    {
      "cell_type": "markdown",
      "source": [
        "Drop duplicates and rows wit missin values"
      ],
      "metadata": {
        "id": "O46LLzrEvsAL"
      }
    },
    {
      "cell_type": "code",
      "source": [],
      "metadata": {
        "id": "KHrFjJikvwij"
      },
      "execution_count": null,
      "outputs": []
    },
    {
      "cell_type": "markdown",
      "source": [
        "Tokeinze"
      ],
      "metadata": {
        "id": "uFA4Dm0jvxEk"
      }
    },
    {
      "cell_type": "code",
      "source": [],
      "metadata": {
        "id": "WLjBDguZv2fp"
      },
      "execution_count": null,
      "outputs": []
    },
    {
      "cell_type": "markdown",
      "source": [
        "Remove Stopwords"
      ],
      "metadata": {
        "id": "6CC-Cu9lv2yR"
      }
    },
    {
      "cell_type": "code",
      "source": [
        "# https://github.com/stopwords-iso/stopwords-ha"
      ],
      "metadata": {
        "id": "b6vwKqkTwuc6"
      },
      "execution_count": null,
      "outputs": []
    },
    {
      "cell_type": "markdown",
      "source": [
        "Lowercase, remove punctuation, special characters (emojis too) and numerical tokens, ten lemmatize - Gensim: Lemmatization will do all of it"
      ],
      "metadata": {
        "id": "CaZ2brv6v9B6"
      }
    },
    {
      "cell_type": "code",
      "source": [],
      "metadata": {
        "id": "0v5JJ6zzwS8_"
      },
      "execution_count": null,
      "outputs": []
    }
  ],
  "metadata": {
    "language_info": {
      "name": "python"
    },
    "colab": {
      "provenance": []
    }
  },
  "nbformat": 4,
  "nbformat_minor": 0
}